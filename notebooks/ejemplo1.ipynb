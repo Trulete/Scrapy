{
 "cells": [
  {
   "cell_type": "code",
   "execution_count": 17,
   "metadata": {},
   "outputs": [
    {
     "name": "stdout",
     "output_type": "stream",
     "text": [
      "c:\\IABD\\PIA\\scrapyApp\\notebooks\n"
     ]
    }
   ],
   "source": [
    "!cd"
   ]
  },
  {
   "cell_type": "code",
   "execution_count": null,
   "metadata": {},
   "outputs": [],
   "source": [
    "!scrapy startproject proyecto_imdb ../scrapy_imdb"
   ]
  },
  {
   "cell_type": "code",
   "execution_count": null,
   "metadata": {},
   "outputs": [],
   "source": [
    "!cd../scrapy_imdb/proyecto_imdb && scrapy genspider imdb https://www.imdb.com"
   ]
  },
  {
   "cell_type": "code",
   "execution_count": null,
   "metadata": {},
   "outputs": [],
   "source": [
    "!cd../scrapy_imdb/proyecto_imdb && scrapy crawl imdb"
   ]
  },
  {
   "cell_type": "code",
   "execution_count": null,
   "metadata": {},
   "outputs": [],
   "source": [
    "!cd../scrapy_imdb/proyecto_imdb && scrapy genspider evapelis https://www.imdb.com"
   ]
  },
  {
   "cell_type": "code",
   "execution_count": 9,
   "metadata": {},
   "outputs": [
    {
     "name": "stdout",
     "output_type": "stream",
     "text": [
      "Created spider 'evapelis2' using template 'basic' in module:\n",
      "  proyecto_imdb.spiders.evapelis2\n"
     ]
    }
   ],
   "source": [
    "!cd../scrapy_imdb/proyecto_imdb && scrapy genspider evapelis2 https://www.imdb.com"
   ]
  },
  {
   "cell_type": "code",
   "execution_count": null,
   "metadata": {},
   "outputs": [],
   "source": [
    "!cd../scrapy_imdb/proyecto_imdb && scrapy crawl evapelis"
   ]
  },
  {
   "cell_type": "code",
   "execution_count": null,
   "metadata": {},
   "outputs": [],
   "source": [
    "!cd../scrapy_imdb/proyecto_imdb && scrapy crawl evapelis2"
   ]
  }
 ],
 "metadata": {
  "kernelspec": {
   "display_name": "Python 3.10.7 ('scrapyApp': venv)",
   "language": "python",
   "name": "python3"
  },
  "language_info": {
   "codemirror_mode": {
    "name": "ipython",
    "version": 3
   },
   "file_extension": ".py",
   "mimetype": "text/x-python",
   "name": "python",
   "nbconvert_exporter": "python",
   "pygments_lexer": "ipython3",
   "version": "3.10.7"
  },
  "orig_nbformat": 4,
  "vscode": {
   "interpreter": {
    "hash": "8b76c012bee67dc9862f865dc8ce5a449b732752281ddf1b9046cb450df5e4da"
   }
  }
 },
 "nbformat": 4,
 "nbformat_minor": 2
}
